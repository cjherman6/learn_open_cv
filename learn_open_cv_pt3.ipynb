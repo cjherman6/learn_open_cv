{
 "cells": [
  {
   "cell_type": "code",
   "execution_count": 1,
   "metadata": {},
   "outputs": [],
   "source": [
    "# https://github.com/spmallick/learnopencv/tree/master/Keras-ImageNet-Models\n",
    "# https://www.learnopencv.com/keras-tutorial-using-pre-trained-imagenet-models/\n",
    "\n",
    "# https://github.com/spmallick/learnopencv/tree/master/Keras-Transfer-Learning\n",
    "# https://www.learnopencv.com/keras-tutorial-transfer-learning-using-pre-trained-models/\n",
    "\n",
    "# https://github.com/spmallick/learnopencv/tree/master/Keras-Fine-Tuning\n",
    "# https://www.learnopencv.com/keras-tutorial-fine-tuning-using-pre-trained-models/"
   ]
  },
  {
   "cell_type": "code",
   "execution_count": 2,
   "metadata": {},
   "outputs": [
    {
     "name": "stderr",
     "output_type": "stream",
     "text": [
      "Using TensorFlow backend.\n"
     ]
    }
   ],
   "source": [
    "import numpy as np\n",
    "import matplotlib.pyplot as plt\n",
    "%matplotlib inline\n",
    "from __future__ import print_function\n",
    "import keras\n",
    "from keras.preprocessing.image import ImageDataGenerator, load_img"
   ]
  },
  {
   "cell_type": "code",
   "execution_count": 3,
   "metadata": {},
   "outputs": [],
   "source": [
    "train_dir = './clean_data/train'\n",
    "validation_dir = './clean_data/valid'\n",
    "image_size = 224"
   ]
  },
  {
   "cell_type": "code",
   "execution_count": 4,
   "metadata": {},
   "outputs": [
    {
     "name": "stdout",
     "output_type": "stream",
     "text": [
      "<keras.engine.input_layer.InputLayer object at 0x7f7031b1f278> False\n",
      "<keras.layers.convolutional.Conv2D object at 0x7f7031b1f7b8> False\n",
      "<keras.layers.convolutional.Conv2D object at 0x7f7031b1f668> False\n",
      "<keras.layers.pooling.MaxPooling2D object at 0x7f7031b48828> False\n",
      "<keras.layers.convolutional.Conv2D object at 0x7f7031b486a0> False\n",
      "<keras.layers.convolutional.Conv2D object at 0x7f7031b02128> False\n",
      "<keras.layers.pooling.MaxPooling2D object at 0x7f7031a9e5c0> False\n",
      "<keras.layers.convolutional.Conv2D object at 0x7f7031a9e438> False\n",
      "<keras.layers.convolutional.Conv2D object at 0x7f7031abfd68> False\n",
      "<keras.layers.convolutional.Conv2D object at 0x7f7031ad6fd0> False\n",
      "<keras.layers.pooling.MaxPooling2D object at 0x7f7031a8c5c0> False\n",
      "<keras.layers.convolutional.Conv2D object at 0x7f7031a8c438> False\n",
      "<keras.layers.convolutional.Conv2D object at 0x7f7031a2ad68> False\n",
      "<keras.layers.convolutional.Conv2D object at 0x7f7031a42fd0> False\n",
      "<keras.layers.pooling.MaxPooling2D object at 0x7f70319f75c0> False\n",
      "<keras.layers.convolutional.Conv2D object at 0x7f70319f7438> False\n",
      "<keras.layers.convolutional.Conv2D object at 0x7f7031a18d68> False\n",
      "<keras.layers.convolutional.Conv2D object at 0x7f70319b1fd0> False\n",
      "<keras.layers.pooling.MaxPooling2D object at 0x7f70319675c0> False\n",
      "_________________________________________________________________\n",
      "Layer (type)                 Output Shape              Param #   \n",
      "=================================================================\n",
      "vgg16 (Model)                (None, 7, 7, 512)         14714688  \n",
      "_________________________________________________________________\n",
      "flatten_1 (Flatten)          (None, 25088)             0         \n",
      "_________________________________________________________________\n",
      "dense_1 (Dense)              (None, 1024)              25691136  \n",
      "_________________________________________________________________\n",
      "dropout_1 (Dropout)          (None, 1024)              0         \n",
      "_________________________________________________________________\n",
      "dense_2 (Dense)              (None, 3)                 3075      \n",
      "=================================================================\n",
      "Total params: 40,408,899\n",
      "Trainable params: 25,694,211\n",
      "Non-trainable params: 14,714,688\n",
      "_________________________________________________________________\n"
     ]
    }
   ],
   "source": [
    "from keras.applications import VGG16\n",
    "\n",
    "#Load the VGG model\n",
    "vgg_conv = VGG16(weights='imagenet', include_top=False, input_shape=(image_size, image_size, 3))\n",
    "\n",
    "# Freeze all the layers\n",
    "for layer in vgg_conv.layers[:]:\n",
    "    layer.trainable = False\n",
    "\n",
    "# Check the trainable status of the individual layers\n",
    "for layer in vgg_conv.layers:\n",
    "    print(layer, layer.trainable)\n",
    "\n",
    "\n",
    "from keras import models\n",
    "from keras import layers\n",
    "from keras import optimizers\n",
    "\n",
    "# Create the model\n",
    "model = models.Sequential()\n",
    "\n",
    "# Add the vgg convolutional base model\n",
    "model.add(vgg_conv)\n",
    "\n",
    "# Add new layers\n",
    "model.add(layers.Flatten())\n",
    "model.add(layers.Dense(1024, activation='relu'))\n",
    "model.add(layers.Dropout(0.5))\n",
    "model.add(layers.Dense(3, activation='softmax'))\n",
    "\n",
    "# Show a summary of the model. Check the number of trainable parameters\n",
    "model.summary()"
   ]
  },
  {
   "cell_type": "raw",
   "metadata": {},
   "source": [
    "# No Data augmentation \n",
    "train_datagen = ImageDataGenerator(rescale=1./255)\n",
    "validation_datagen = ImageDataGenerator(rescale=1./255)\n",
    "\n",
    "# Change the batchsize according to your system RAM\n",
    "train_batchsize = 20\n",
    "val_batchsize = 10\n",
    "\n",
    "# Data Generator for Training data\n",
    "train_generator = train_datagen.flow_from_directory(\n",
    "        train_dir,\n",
    "        target_size=(image_size, image_size),\n",
    "        batch_size=train_batchsize,\n",
    "        class_mode='categorical')\n",
    "\n",
    "# Data Generator for Validation data\n",
    "validation_generator = validation_datagen.flow_from_directory(\n",
    "        validation_dir,\n",
    "        target_size=(image_size, image_size),\n",
    "        batch_size=val_batchsize,\n",
    "        class_mode='categorical',\n",
    "        shuffle=False)"
   ]
  },
  {
   "cell_type": "code",
   "execution_count": 6,
   "metadata": {},
   "outputs": [],
   "source": [
    "# Compile the model\n",
    "model.compile(loss='categorical_crossentropy',\n",
    "              optimizer=optimizers.RMSprop(lr=1e-4),\n",
    "              metrics=['acc'])"
   ]
  },
  {
   "cell_type": "code",
   "execution_count": 7,
   "metadata": {},
   "outputs": [
    {
     "name": "stdout",
     "output_type": "stream",
     "text": [
      "Epoch 1/20\n",
      "45/45 [==============================] - 19s 425ms/step - loss: 1.6954 - acc: 0.5178 - val_loss: 0.7277 - val_acc: 0.6667\n",
      "Epoch 2/20\n",
      "45/45 [==============================] - 14s 313ms/step - loss: 0.7100 - acc: 0.7178 - val_loss: 0.5487 - val_acc: 0.7500\n",
      "Epoch 3/20\n",
      "45/45 [==============================] - 14s 314ms/step - loss: 0.4879 - acc: 0.8078 - val_loss: 0.5091 - val_acc: 0.8111\n",
      "Epoch 4/20\n",
      "45/45 [==============================] - 14s 315ms/step - loss: 0.4003 - acc: 0.8400 - val_loss: 0.8213 - val_acc: 0.7056\n",
      "Epoch 5/20\n",
      "45/45 [==============================] - 14s 315ms/step - loss: 0.2802 - acc: 0.8967 - val_loss: 0.5035 - val_acc: 0.8000\n",
      "Epoch 6/20\n",
      "45/45 [==============================] - 14s 316ms/step - loss: 0.2581 - acc: 0.8978 - val_loss: 1.3532 - val_acc: 0.6722\n",
      "Epoch 7/20\n",
      "45/45 [==============================] - 14s 316ms/step - loss: 0.1375 - acc: 0.9500 - val_loss: 0.6495 - val_acc: 0.7778\n",
      "Epoch 8/20\n",
      "45/45 [==============================] - 14s 317ms/step - loss: 0.1268 - acc: 0.9544 - val_loss: 0.6478 - val_acc: 0.7722\n",
      "Epoch 9/20\n",
      "45/45 [==============================] - 14s 317ms/step - loss: 0.1341 - acc: 0.9511 - val_loss: 0.6557 - val_acc: 0.7778\n",
      "Epoch 10/20\n",
      "45/45 [==============================] - 14s 317ms/step - loss: 0.0939 - acc: 0.9700 - val_loss: 0.5296 - val_acc: 0.8389\n",
      "Epoch 11/20\n",
      "45/45 [==============================] - 14s 317ms/step - loss: 0.0398 - acc: 0.9878 - val_loss: 0.5911 - val_acc: 0.8333\n",
      "Epoch 12/20\n",
      "45/45 [==============================] - 14s 318ms/step - loss: 0.0789 - acc: 0.9722 - val_loss: 0.5811 - val_acc: 0.8500\n",
      "Epoch 13/20\n",
      "45/45 [==============================] - 14s 318ms/step - loss: 0.0418 - acc: 0.9822 - val_loss: 0.6188 - val_acc: 0.8333\n",
      "Epoch 14/20\n",
      "45/45 [==============================] - 14s 317ms/step - loss: 0.0454 - acc: 0.9856 - val_loss: 0.5892 - val_acc: 0.8500\n",
      "Epoch 15/20\n",
      "45/45 [==============================] - 14s 318ms/step - loss: 0.0543 - acc: 0.9856 - val_loss: 0.6052 - val_acc: 0.8500\n",
      "Epoch 16/20\n",
      "45/45 [==============================] - 14s 318ms/step - loss: 0.0267 - acc: 0.9856 - val_loss: 0.6642 - val_acc: 0.8389\n",
      "Epoch 17/20\n",
      "45/45 [==============================] - 14s 318ms/step - loss: 0.0055 - acc: 0.9989 - val_loss: 0.9486 - val_acc: 0.7722\n",
      "Epoch 18/20\n",
      "45/45 [==============================] - 14s 318ms/step - loss: 0.0502 - acc: 0.9844 - val_loss: 0.7325 - val_acc: 0.8333\n",
      "Epoch 19/20\n",
      "45/45 [==============================] - 14s 318ms/step - loss: 0.0135 - acc: 0.9956 - val_loss: 0.7334 - val_acc: 0.8222\n",
      "Epoch 20/20\n",
      "45/45 [==============================] - 14s 318ms/step - loss: 0.0300 - acc: 0.9889 - val_loss: 0.7779 - val_acc: 0.8556\n"
     ]
    }
   ],
   "source": [
    "# Train the Model\n",
    "history = model.fit_generator(\n",
    "      train_generator,\n",
    "      steps_per_epoch=train_generator.samples/train_generator.batch_size ,\n",
    "      epochs=20,\n",
    "      validation_data=validation_generator,\n",
    "      validation_steps=validation_generator.samples/validation_generator.batch_size,\n",
    "      verbose=1)"
   ]
  },
  {
   "cell_type": "code",
   "execution_count": 8,
   "metadata": {},
   "outputs": [
    {
     "data": {
      "image/png": "[encoded data removed]",
      "text/plain": [
       "<Figure size 432x288 with 1 Axes>"
      ]
     },
     "metadata": {},
     "output_type": "display_data"
    },
    {
     "data": {
      "image/png": "[encoded data removed]",
      "text/plain": [
       "<Figure size 432x288 with 1 Axes>"
      ]
     },
     "metadata": {},
     "output_type": "display_data"
    }
   ],
   "source": [
    "# Save the Model\n",
    "model.save('all_freezed.h5')\n",
    "\n",
    "# Plot the accuracy and loss curves\n",
    "acc = history.history['acc']\n",
    "val_acc = history.history['val_acc']\n",
    "loss = history.history['loss']\n",
    "val_loss = history.history['val_loss']\n",
    "\n",
    "epochs = range(len(acc))\n",
    "\n",
    "plt.plot(epochs, acc, 'b', label='Training acc')\n",
    "plt.plot(epochs, val_acc, 'r', label='Validation acc')\n",
    "plt.title('Training and validation accuracy')\n",
    "plt.legend()\n",
    "\n",
    "plt.figure()\n",
    "\n",
    "plt.plot(epochs, loss, 'b', label='Training loss')\n",
    "plt.plot(epochs, val_loss, 'r', label='Validation loss')\n",
    "plt.title('Training and validation loss')\n",
    "plt.legend()\n",
    "\n",
    "plt.show()"
   ]
  },
  {
   "cell_type": "code",
   "execution_count": null,
   "metadata": {},
   "outputs": [],
   "source": []
  },
  {
   "cell_type": "code",
   "execution_count": null,
   "metadata": {},
   "outputs": [],
   "source": []
  },
  {
   "cell_type": "code",
   "execution_count": null,
   "metadata": {},
   "outputs": [],
   "source": []
  },
  {
   "cell_type": "code",
   "execution_count": null,
   "metadata": {},
   "outputs": [],
   "source": []
  },
  {
   "cell_type": "code",
   "execution_count": null,
   "metadata": {},
   "outputs": [],
   "source": []
  },
  {
   "cell_type": "markdown",
   "metadata": {},
   "source": [
    "# Up Next:\n",
    "\n",
    "#### https://github.com/fchollet/deep-learning-with-python-notebooks"
   ]
  }
 ],
 "metadata": {
  "kernelspec": {
   "display_name": "Environment (conda_tensorflow_p36)",
   "language": "python",
   "name": "conda_tensorflow_p36"
  },
  "language_info": {
   "codemirror_mode": {
    "name": "ipython",
    "version": 3
   },
   "file_extension": ".py",
   "mimetype": "text/x-python",
   "name": "python",
   "nbconvert_exporter": "python",
   "pygments_lexer": "ipython3",
   "version": "3.6.5"
  }
 },
 "nbformat": 4,
 "nbformat_minor": 2
}
